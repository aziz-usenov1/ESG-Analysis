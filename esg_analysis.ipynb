{
 "cells": [
  {
   "cell_type": "code",
   "execution_count": null,
   "metadata": {},
   "outputs": [],
   "source": [
    "import numpy as np\n",
    "import pandas as pd\n",
    "import seaborn as sns\n",
    "import matplotlib.pyplot as plt\n",
    "import scipy as stats"
   ]
  },
  {
   "cell_type": "code",
   "execution_count": null,
   "metadata": {},
   "outputs": [],
   "source": [
    "survey_df = pd.read_csv('/workspaces/ESG-Analysis/Data/ESS8e02_3.csv')\n",
    "survey_df.head()"
   ]
  },
  {
   "cell_type": "code",
   "execution_count": null,
   "metadata": {},
   "outputs": [],
   "source": [
    "survey_df.describe()"
   ]
  },
  {
   "cell_type": "code",
   "execution_count": null,
   "metadata": {},
   "outputs": [],
   "source": [
    "survey_df.info()"
   ]
  },
  {
   "cell_type": "markdown",
   "metadata": {},
   "source": [
    "Selecting only columns according to the research interest"
   ]
  },
  {
   "cell_type": "code",
   "execution_count": null,
   "metadata": {},
   "outputs": [],
   "source": [
    "data_needed = survey_df[['idno', 'cntry', 'domicil', 'wrclmch', 'clmthgt1', 'ccgdbd', 'eneffap', 'rdcenr', 'ccrdprs', 'eisced', 'lrscale']]\n",
    "data_needed.head()"
   ]
  },
  {
   "cell_type": "code",
   "execution_count": null,
   "metadata": {},
   "outputs": [],
   "source": [
    "data_needed.isna().sum()"
   ]
  },
  {
   "cell_type": "code",
   "execution_count": null,
   "metadata": {},
   "outputs": [],
   "source": [
    "data_needed['cntry'].unique()"
   ]
  },
  {
   "cell_type": "markdown",
   "metadata": {},
   "source": [
    "Remove countries that are not part of Europe (Russian Federation, Israel) and Ensure no 'RU' or 'IS'"
   ]
  },
  {
   "cell_type": "code",
   "execution_count": null,
   "metadata": {},
   "outputs": [],
   "source": [
    "data_needed = data_needed[~data_needed['cntry'].isin(['RU', 'IL'])]\n",
    "\n",
    "if data_needed['cntry'].isin(['RU', 'IL']).any():\n",
    "    print(\"Still: 'RU' or 'IL'\")\n",
    "else:\n",
    "    print(\"No: 'RU' or 'IL'\")"
   ]
  },
  {
   "cell_type": "markdown",
   "metadata": {},
   "source": [
    "Data from World Bank about education"
   ]
  },
  {
   "cell_type": "code",
   "execution_count": null,
   "metadata": {},
   "outputs": [],
   "source": [
    "world_bank_df = pd.read_csv('/workspaces/ESG-Analysis/Data/01d4cc76-d950-4515-a40d-b85330acb7b9_Data.csv')\n",
    "world_bank_df"
   ]
  },
  {
   "cell_type": "code",
   "execution_count": null,
   "metadata": {},
   "outputs": [],
   "source": [
    "# Setting '2021 [YR2021]' as a variable to call it more efficiently\n",
    "year = '2016 [YR2016]'"
   ]
  },
  {
   "cell_type": "code",
   "execution_count": null,
   "metadata": {},
   "outputs": [],
   "source": [
    "set(world_bank_df[year])"
   ]
  },
  {
   "cell_type": "code",
   "execution_count": null,
   "metadata": {},
   "outputs": [],
   "source": [
    "world_bank_df.replace('..', np.nan, inplace=True) # replace '..' for nan values\n",
    "world_bank_df = world_bank_df[~world_bank_df[year].isna()] # remove all nan values"
   ]
  },
  {
   "cell_type": "code",
   "execution_count": null,
   "metadata": {},
   "outputs": [],
   "source": [
    "world_bank_df['Country Code'].unique()"
   ]
  },
  {
   "cell_type": "code",
   "execution_count": null,
   "metadata": {},
   "outputs": [],
   "source": [
    "three_to_two = {\n",
    "    'AUT': 'AT', \n",
    "    'BEL': 'BE', \n",
    "    'CZE': 'CZ', \n",
    "    'EST': 'EE', \n",
    "    'FIN': 'FI',\n",
    "    'FRA': 'FR', \n",
    "    'DEU': 'DE', \n",
    "    'HUN': 'HU', \n",
    "    'ISL': 'IS', \n",
    "    'IRL': 'IE',\n",
    "    'ITA': 'IT', \n",
    "    'LTU': 'LT', \n",
    "    'NLD': 'NL', \n",
    "    'NOR': 'NO', \n",
    "    'POL': 'PL',\n",
    "    'PRT': 'PT', \n",
    "    'SVN': 'SI', \n",
    "    'ESP': 'ES', \n",
    "    'SWE': 'SE', \n",
    "    'CHE': 'CH',\n",
    "    'GBR': 'GB'\n",
    "}\n",
    "\n",
    "world_bank_df['Country Code'] = world_bank_df['Country Code'].map(three_to_two)\n",
    "world_bank_df\n"
   ]
  },
  {
   "cell_type": "code",
   "execution_count": null,
   "metadata": {},
   "outputs": [],
   "source": [
    "world_bank_df = world_bank_df.pivot(columns='Series Name', index='Country Code', values=year).reset_index()\n",
    "world_bank_df.columns.name = None\n",
    "world_bank_df"
   ]
  },
  {
   "cell_type": "code",
   "execution_count": null,
   "metadata": {},
   "outputs": [],
   "source": [
    "# Merge the two DataFrames\n",
    "survey_and_wb = data_needed.merge(world_bank_df, left_on='cntry', right_on='Country Code', how='left')\n",
    "\n",
    "# Drop the redundant \"Country Code\" column\n",
    "survey_and_wb.drop(columns=['Country Code'], inplace=True)\n",
    "\n",
    "survey_and_wb.head()"
   ]
  },
  {
   "cell_type": "code",
   "execution_count": null,
   "metadata": {},
   "outputs": [],
   "source": [
    "survey_and_wb.shape"
   ]
  }
 ],
 "metadata": {
  "kernelspec": {
   "display_name": "Python 3",
   "language": "python",
   "name": "python3"
  },
  "language_info": {
   "codemirror_mode": {
    "name": "ipython",
    "version": 3
   },
   "file_extension": ".py",
   "mimetype": "text/x-python",
   "name": "python",
   "nbconvert_exporter": "python",
   "pygments_lexer": "ipython3",
   "version": "3.12.1"
  }
 },
 "nbformat": 4,
 "nbformat_minor": 2
}
